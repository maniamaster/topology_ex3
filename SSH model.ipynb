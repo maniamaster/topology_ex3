{
 "cells": [
  {
   "cell_type": "markdown",
   "metadata": {},
   "source": [
    "# SSH model\n",
    "Hamiltonian :\n",
    "$$H_{SSH}=\\sum__{x=1}^{L}-t(1-(-1)^x\\delta)(c_x^\\dag c_{x+1}+g.c.).$$\n"
   ]
  },
  {
   "cell_type": "code",
   "execution_count": 150,
   "metadata": {
    "collapsed": false
   },
   "outputs": [],
   "source": [
    "import numpy as np\n",
    "from matplotlib import pyplot as plt\n",
    "plt.switch_backend('agg')\n",
    "import scipy as sp"
   ]
  },
  {
   "cell_type": "code",
   "execution_count": 164,
   "metadata": {
    "collapsed": false
   },
   "outputs": [],
   "source": [
    "\n",
    "def construct_ham(L=10,delta=0.2,t=1):\n",
    "    mask = np.ones(L-1, dtype=bool)\n",
    "    mask[::2] = 0\n",
    "    \n",
    "    tridig1=np.arange(L-1)\n",
    "    tridig1[mask]=0\n",
    "    tridig2=np.arange(L-1)\n",
    "    tridig2[~mask]=0\n",
    "    H=np.empty([10,10])\n",
    "    H[tridig1,tridig1+1]=-t*(1-delta)\n",
    "    H[tridig2,tridig2+1]=-t*(1+delta)\n",
    "    H[tridig1+1,tridig1]=-t*(1-delta)\n",
    "    H[tridig2+1,tridig2]=-t*(1+delta)\n",
    "    ##fix:\n",
    "    H[0,1]=t*(1-delta)\n",
    "    H[1,0]=t*(1-delta)\n",
    "    return H\n",
    "\n"
   ]
  },
  {
   "cell_type": "code",
   "execution_count": 173,
   "metadata": {
    "collapsed": false
   },
   "outputs": [
    {
     "name": "stdout",
     "output_type": "stream",
     "text": [
      "[[ 0. -1.  0.  0.  0.  0.  0.  0.  0.  0.]\n",
      " [-1.  0. -3.  0.  0.  0.  0.  0.  0.  0.]\n",
      " [ 0. -3.  0.  1.  0.  0.  0.  0.  0.  0.]\n",
      " [ 0.  0.  1.  0. -3.  0.  0.  0.  0.  0.]\n",
      " [ 0.  0.  0. -3.  0.  1.  0.  0.  0.  0.]\n",
      " [ 0.  0.  0.  0.  1.  0. -3.  0.  0.  0.]\n",
      " [ 0.  0.  0.  0.  0. -3.  0.  1.  0.  0.]\n",
      " [ 0.  0.  0.  0.  0.  0.  1.  0. -3.  0.]\n",
      " [ 0.  0.  0.  0.  0.  0.  0. -3.  0.  1.]\n",
      " [ 0.  0.  0.  0.  0.  0.  0.  0.  1.  0.]]\n"
     ]
    }
   ],
   "source": [
    "L=10\n",
    "fig1=plt.figure()\n",
    "\n",
    "\n",
    "p=np.linspace(0,2,400)\n",
    "for x in p:\n",
    "    delta=x\n",
    "    test=construct_ham(L,x)\n",
    "    xvalue=np.empty(L)\n",
    "    xvalue.fill(x)\n",
    "    \n",
    "    E,v = np.linalg.eig(test) ##diagonalisieren\n",
    "    \n",
    "    plt.plot(xvalue,E,'b.',markersize=0.8) ##plotten\n",
    "\n",
    "plt.xlabel('delta')\n",
    "plt.ylabel('energy')\n",
    "plt.savefig('plot.pdf')\n",
    "\n",
    "\n",
    "print(test)\n",
    "\n",
    "\n",
    "\n"
   ]
  },
  {
   "cell_type": "code",
   "execution_count": null,
   "metadata": {
    "collapsed": true
   },
   "outputs": [],
   "source": []
  }
 ],
 "metadata": {
  "anaconda-cloud": {},
  "kernelspec": {
   "display_name": "Python [Root]",
   "language": "python",
   "name": "Python [Root]"
  },
  "language_info": {
   "codemirror_mode": {
    "name": "ipython",
    "version": 3
   },
   "file_extension": ".py",
   "mimetype": "text/x-python",
   "name": "python",
   "nbconvert_exporter": "python",
   "pygments_lexer": "ipython3",
   "version": "3.5.2"
  }
 },
 "nbformat": 4,
 "nbformat_minor": 0
}
